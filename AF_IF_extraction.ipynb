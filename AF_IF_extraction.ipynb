{
 "cells": [
  {
   "cell_type": "code",
   "execution_count": 1,
   "id": "1f83a8b1-cdca-4590-ba73-a0cf311c23ad",
   "metadata": {
    "tags": []
   },
   "outputs": [],
   "source": [
    "## Program to read in interacting residues from Burke et al. catalogued structures and annotate with IUPred2A disorder prediction\n",
    "## Created by: Joelle Strom\n",
    "## Last updated: 17.05.2024\n",
    "\n",
    "import numpy as np\n",
    "import pandas as pd\n",
    "import requests\n",
    "from tqdm import tqdm"
   ]
  },
  {
   "cell_type": "code",
   "execution_count": 3,
   "id": "3c461230-feb0-4bba-9759-66f8b2e3420f",
   "metadata": {
    "tags": []
   },
   "outputs": [
    {
     "name": "stdout",
     "output_type": "stream",
     "text": [
      "3009\n"
     ]
    }
   ],
   "source": [
    "def extr_int_res(name):\n",
    "    \"\"\" Find output file for given Burke-modeled interaction and return locations of interacting residues in each chain \"\"\"\n",
    "    \n",
    "    # Define file path with given interaction name and read contents\n",
    "    filename = 'Y:/publications/AlphaFold/Burke_et_al_NSMB2023/HuRI/'+name+'/'+name+'.pLDDT'\n",
    "    with open(filename) as f:\n",
    "        contents = f.readlines()\n",
    "\n",
    "    # Iterate through contents - after the 'list of interacting residues' header, append residue numbers to list\n",
    "    prota = []\n",
    "    protb = []\n",
    "    restime = 0\n",
    "    for line in contents:\n",
    "        if restime == 1:\n",
    "            curline = line.strip('\\n').split(' ')\n",
    "            prota.append(curline[1])\n",
    "            protb.append(curline[2])\n",
    "        if 'LIST OF INTERACTING RESIDUES' in line:\n",
    "            restime = 1\n",
    "            \n",
    "    # Minor processing of lists - remove duplicates and convert to integers\n",
    "    prota = list(dict.fromkeys(prota))\n",
    "    prota = [int(x) for x in prota]\n",
    "    protb = list(dict.fromkeys(protb))\n",
    "    protb = [int(x) for x in protb]\n",
    "    \n",
    "    return prota, protb\n",
    "\n",
    "# Import file with annotated data\n",
    "final = pd.read_csv('C:/Users/stromjoe/Documents/projects/Burke/Processed_datasets/burkeAnnotated.csv')\n",
    "# Filter out low-confidence models\n",
    "highconf = final[final.pDockQ > 0.5]\n",
    "print(highconf.shape[0])"
   ]
  },
  {
   "cell_type": "code",
   "execution_count": 6,
   "id": "73cf4235-afd5-4017-b9a0-e49d519db49a",
   "metadata": {
    "tags": []
   },
   "outputs": [
    {
     "name": "stderr",
     "output_type": "stream",
     "text": [
      "  6%|▋         | 191/3009 [08:55<2:04:48,  2.66s/it]"
     ]
    },
    {
     "name": "stdout",
     "output_type": "stream",
     "text": [
      "Q14241\n"
     ]
    },
    {
     "name": "stderr",
     "output_type": "stream",
     "text": [
      " 43%|████▎     | 1292/3009 [51:45<1:05:00,  2.27s/it]"
     ]
    },
    {
     "name": "stdout",
     "output_type": "stream",
     "text": [
      "Q01433\n"
     ]
    },
    {
     "name": "stderr",
     "output_type": "stream",
     "text": [
      " 43%|████▎     | 1293/3009 [51:47<1:05:29,  2.29s/it]"
     ]
    },
    {
     "name": "stdout",
     "output_type": "stream",
     "text": [
      "P23109\n"
     ]
    },
    {
     "name": "stderr",
     "output_type": "stream",
     "text": [
      " 43%|████▎     | 1299/3009 [52:01<1:05:53,  2.31s/it]"
     ]
    },
    {
     "name": "stdout",
     "output_type": "stream",
     "text": [
      "Q12983\n"
     ]
    },
    {
     "name": "stderr",
     "output_type": "stream",
     "text": [
      " 53%|█████▎    | 1587/3009 [1:02:58<54:03,  2.28s/it]"
     ]
    },
    {
     "name": "stdout",
     "output_type": "stream",
     "text": [
      "Q96HE8\n"
     ]
    },
    {
     "name": "stderr",
     "output_type": "stream",
     "text": [
      " 56%|█████▌    | 1676/3009 [1:06:13<52:51,  2.38s/it]"
     ]
    },
    {
     "name": "stdout",
     "output_type": "stream",
     "text": [
      "P78358\n"
     ]
    },
    {
     "name": "stderr",
     "output_type": "stream",
     "text": [
      " 76%|███████▌  | 2276/3009 [1:29:10<26:59,  2.21s/it]"
     ]
    },
    {
     "name": "stdout",
     "output_type": "stream",
     "text": [
      "P23109\n"
     ]
    },
    {
     "name": "stderr",
     "output_type": "stream",
     "text": [
      " 78%|███████▊  | 2358/3009 [1:32:20<25:40,  2.37s/it]"
     ]
    },
    {
     "name": "stdout",
     "output_type": "stream",
     "text": [
      "Q96HE8\n"
     ]
    },
    {
     "name": "stderr",
     "output_type": "stream",
     "text": [
      " 95%|█████████▍| 2846/3009 [1:51:26<06:27,  2.38s/it]"
     ]
    },
    {
     "name": "stdout",
     "output_type": "stream",
     "text": [
      "Q8N5Z5\n"
     ]
    },
    {
     "name": "stderr",
     "output_type": "stream",
     "text": [
      "100%|██████████| 3009/3009 [1:57:40<00:00,  2.35s/it]\n"
     ]
    }
   ],
   "source": [
    "# Obtain disorder predictions for interface residues\n",
    "if_numfrac1 = []\n",
    "if_numfrac2 = []\n",
    "if_numres1 = []\n",
    "if_numres2 = []\n",
    "\n",
    "for i in tqdm(highconf.index):\n",
    "    # Get interacting residues and uniprot IDs for current interaction\n",
    "    prota, protb = extr_int_res(highconf.Name.loc[i])\n",
    "    names = [highconf.Uniprot1.loc[i], highconf.Uniprot2.loc[i]]\n",
    "    numfrac = []\n",
    "    numres = []\n",
    "    # Interact with IUPred2A REST API\n",
    "    for j in range(0,2):\n",
    "        if j == 0:\n",
    "            prot = prota\n",
    "        elif j == 1:\n",
    "            prot = protb\n",
    "        if names[j] == 'O76011':\n",
    "            names[j] = 'A0A140TA69' #Change to the isomer with correct length for this specific case (according to len in Burke data set)\n",
    "        if names[j] == 'Q9NX55': #Burke sequence has an extended sequence - shift residue numbers to correspond with IUPred\n",
    "            prot = [x-8 for x in prot]\n",
    "            prot = [x for x in prot if x > 0]\n",
    "        url = 'http://iupred2a.elte.hu/iupred2a/short/'+names[j]+'.json'\n",
    "        response = requests.get(url)\n",
    "        res = response.json()\n",
    "        iupred = pd.Series(res['iupred2'])\n",
    "        if len(iupred.index) > 0:\n",
    "            iupred.index = iupred.index + 1\n",
    "            # Restrict disorder predictions to only the residues which are in interface\n",
    "            # Try-except statement is necessary because some interface residue indices are outside range of UniProt sequence, even with the named exceptions above\n",
    "            # This is only true for a small fraction (9/3009 cases) - will not take the time to manually fix each of these instances but will rather return NaN\n",
    "            try:\n",
    "                iupredres = iupred[prot]\n",
    "                numfrac.append(len(iupredres[iupredres > 0.4]))\n",
    "                numres.append(len(prot))\n",
    "            except:\n",
    "                print(names[j])\n",
    "                numfrac.append(np.nan)\n",
    "                numres.append(len(prot))\n",
    "\n",
    "    if_numfrac1.append(numfrac[0])\n",
    "    if_numfrac2.append(numfrac[1])\n",
    "    if_numres1.append(numres[0])\n",
    "    if_numres2.append(numres[1])"
   ]
  },
  {
   "cell_type": "code",
   "execution_count": 8,
   "id": "707ff5d1-fb59-4524-bd3b-d853fcfb2db8",
   "metadata": {
    "tags": []
   },
   "outputs": [
    {
     "name": "stderr",
     "output_type": "stream",
     "text": [
      "C:\\Users\\stromjoe\\AppData\\Local\\Temp\\ipykernel_23540\\1585936312.py:2: SettingWithCopyWarning: \n",
      "A value is trying to be set on a copy of a slice from a DataFrame.\n",
      "Try using .loc[row_indexer,col_indexer] = value instead\n",
      "\n",
      "See the caveats in the documentation: https://pandas.pydata.org/pandas-docs/stable/user_guide/indexing.html#returning-a-view-versus-a-copy\n",
      "  highconf['if_numres1'] = if_numres1\n",
      "C:\\Users\\stromjoe\\AppData\\Local\\Temp\\ipykernel_23540\\1585936312.py:3: SettingWithCopyWarning: \n",
      "A value is trying to be set on a copy of a slice from a DataFrame.\n",
      "Try using .loc[row_indexer,col_indexer] = value instead\n",
      "\n",
      "See the caveats in the documentation: https://pandas.pydata.org/pandas-docs/stable/user_guide/indexing.html#returning-a-view-versus-a-copy\n",
      "  highconf['if_numres2'] = if_numres2\n",
      "C:\\Users\\stromjoe\\AppData\\Local\\Temp\\ipykernel_23540\\1585936312.py:4: SettingWithCopyWarning: \n",
      "A value is trying to be set on a copy of a slice from a DataFrame.\n",
      "Try using .loc[row_indexer,col_indexer] = value instead\n",
      "\n",
      "See the caveats in the documentation: https://pandas.pydata.org/pandas-docs/stable/user_guide/indexing.html#returning-a-view-versus-a-copy\n",
      "  highconf['if_numdis1'] = if_numfrac1\n",
      "C:\\Users\\stromjoe\\AppData\\Local\\Temp\\ipykernel_23540\\1585936312.py:5: SettingWithCopyWarning: \n",
      "A value is trying to be set on a copy of a slice from a DataFrame.\n",
      "Try using .loc[row_indexer,col_indexer] = value instead\n",
      "\n",
      "See the caveats in the documentation: https://pandas.pydata.org/pandas-docs/stable/user_guide/indexing.html#returning-a-view-versus-a-copy\n",
      "  highconf['if_numdis2'] = if_numfrac2\n"
     ]
    }
   ],
   "source": [
    "# Append to dataframe\n",
    "highconf['if_numres1'] = if_numres1\n",
    "highconf['if_numres2'] = if_numres2\n",
    "highconf['if_numdis1'] = if_numfrac1\n",
    "highconf['if_numdis2'] = if_numfrac2\n",
    "\n",
    "# Write to disk\n",
    "highconf.to_csv('C:/Users/stromjoe/Documents/projects/DDI_IF-analysis/highconfpred.csv', index=False)"
   ]
  }
 ],
 "metadata": {
  "kernelspec": {
   "display_name": "Python 3 (ipykernel)",
   "language": "python",
   "name": "python3"
  },
  "language_info": {
   "codemirror_mode": {
    "name": "ipython",
    "version": 3
   },
   "file_extension": ".py",
   "mimetype": "text/x-python",
   "name": "python",
   "nbconvert_exporter": "python",
   "pygments_lexer": "ipython3",
   "version": "3.11.5"
  }
 },
 "nbformat": 4,
 "nbformat_minor": 5
}
