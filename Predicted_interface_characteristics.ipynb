{
 "cells": [
  {
   "cell_type": "code",
   "execution_count": 1,
   "metadata": {},
   "outputs": [
    {
     "name": "stderr",
     "output_type": "stream",
     "text": [
      "/tmp/ipykernel_2362/3783416315.py:10: DeprecationWarning: \n",
      "Pyarrow will become a required dependency of pandas in the next major release of pandas (pandas 3.0),\n",
      "(to allow more performant data types, such as the Arrow string type, and better interoperability with other libraries)\n",
      "but was not found to be installed on your system.\n",
      "If this would cause problems for you,\n",
      "please provide us feedback at https://github.com/pandas-dev/pandas/issues/54466\n",
      "        \n",
      "  import pandas as pd\n"
     ]
    },
    {
     "name": "stdout",
     "output_type": "stream",
     "text": [
      "2024-05-14 13:38:11,071 INFO sqlalchemy.engine.Engine SELECT DATABASE()\n",
      "2024-05-14 13:38:11,073 INFO sqlalchemy.engine.Engine [raw sql] ()\n",
      "2024-05-14 13:38:11,085 INFO sqlalchemy.engine.Engine SELECT @@sql_mode\n",
      "2024-05-14 13:38:11,087 INFO sqlalchemy.engine.Engine [raw sql] ()\n",
      "2024-05-14 13:38:11,107 INFO sqlalchemy.engine.Engine SELECT @@lower_case_table_names\n",
      "2024-05-14 13:38:11,108 INFO sqlalchemy.engine.Engine [raw sql] ()\n"
     ]
    }
   ],
   "source": [
    "## Program to ivestigate characteristics of AF-Multimer models from DDI prediction project\n",
    "## Created by: Joelle Strom\n",
    "## Last updated: 13.05.2024\n",
    "\n",
    "# Import libraries\n",
    "import db_utils_sqlalchemy\n",
    "import MySQLdb\n",
    "import sqlalchemy\n",
    "import numpy as np\n",
    "import pandas as pd\n",
    "import matplotlib.pyplot as plt\n",
    "import seaborn as sns\n",
    "\n",
    "# Establish connection to MySQL server\n",
    "engine = db_utils_sqlalchemy.get_connection()"
   ]
  },
  {
   "cell_type": "code",
   "execution_count": 2,
   "metadata": {},
   "outputs": [
    {
     "name": "stdout",
     "output_type": "stream",
     "text": [
      "2024-05-14 13:38:15,051 INFO sqlalchemy.engine.Engine BEGIN (implicit)\n",
      "2024-05-14 13:38:15,057 INFO sqlalchemy.engine.Engine select * from johanna_db.HuRI_DDI_cytoscape_edges where DDI_type!='PF00038_PF00038' and high_conf_AF_model=1\n",
      "2024-05-14 13:38:15,059 INFO sqlalchemy.engine.Engine [generated in 0.00804s] ()\n",
      "2024-05-14 13:38:15,101 INFO sqlalchemy.engine.Engine ROLLBACK\n"
     ]
    }
   ],
   "source": [
    "from sqlalchemy import text\n",
    "# Import table of predictions along with merged characteristics from Burke et al. analysis\n",
    "# Selecting only those interactions with a high-confidence AlphaFold model from fragment approach (high_conf_AF_model=1)\n",
    "query = text(\"select * from johanna_db.HuRI_DDI_cytoscape_edges where DDI_type!='PF00038_PF00038' and high_conf_AF_model=1\")\n",
    "df = pd.read_sql(query, con=engine)"
   ]
  },
  {
   "cell_type": "code",
   "execution_count": 3,
   "metadata": {},
   "outputs": [
    {
     "name": "stdout",
     "output_type": "stream",
     "text": [
      "    ensembl_gene_id1 ensembl_gene_id2 uniprot_ac1  symbol1 uniprot_ac2  \\\n",
      "0    ENSG00000002330  ENSG00000129473      Q92934      BAD      Q92843   \n",
      "1    ENSG00000171552  ENSG00000002330      Q07817   BCL2L1      Q92934   \n",
      "2    ENSG00000164109  ENSG00000002822      Q13257   MAD2L1      Q9Y6D9   \n",
      "3    ENSG00000104388  ENSG00000003147      P61019    RAB2A      Q05084   \n",
      "4    ENSG00000129472  ENSG00000003147      Q8WUD1    RAB2B      Q05084   \n",
      "..               ...              ...         ...      ...         ...   \n",
      "642  ENSG00000244734  ENSG00000206172      P68871      HBB      P69905   \n",
      "643  ENSG00000244734  ENSG00000206177      P68871      HBB      Q6B0K9   \n",
      "644  ENSG00000231989  ENSG00000213639      Q6NXS1  PPP1R2B      P62140   \n",
      "645  ENSG00000272047  ENSG00000213780      Q6ZYL4   GTF2H5      Q92759   \n",
      "646  ENSG00000272047  ENSG00000213780      Q6ZYL4   GTF2H5      Q92759   \n",
      "\n",
      "    symbol2         DDI_type domain_id1 domain_id2  num_DDI_matches  ...  \\\n",
      "0    BCL2L2  PF00452_PF10514    PF10514    PF00452                1  ...   \n",
      "1       BAD  PF00452_PF10514    PF00452    PF10514                1  ...   \n",
      "2    MAD1L1  PF02301_PF05557    PF02301    PF05557                1  ...   \n",
      "3      ICA1  PF06456_PF00071    PF00071    PF06456                1  ...   \n",
      "4      ICA1  PF06456_PF00071    PF00071    PF06456                1  ...   \n",
      "..      ...              ...        ...        ...              ...  ...   \n",
      "642    HBA1  PF00042_PF00042    PF00042    PF00042                1  ...   \n",
      "643     HBM  PF00042_PF00042    PF00042    PF00042                1  ...   \n",
      "644  PPP1CB  PF04979_PF00149    PF04979    PF00149                1  ...   \n",
      "645  GTF2H4  PF03849_PF06331    PF06331    PF03849                2  ...   \n",
      "646  GTF2H4  PF18307_PF06331    PF06331    PF18307                2  ...   \n",
      "\n",
      "    domain_short1                                       domain_name2  \\\n",
      "0       Bcl-2_BAD         Apoptosis regulator proteins, Bcl-2 family   \n",
      "1           Bcl-2                   Pro-apoptotic Bcl-2 protein, BAD   \n",
      "2           HORMA                         Mitotic checkpoint protein   \n",
      "3             Ras                               Arfaptin-like domain   \n",
      "4             Ras                               Arfaptin-like domain   \n",
      "..            ...                                                ...   \n",
      "642        Globin                                             Globin   \n",
      "643        Globin                                             Globin   \n",
      "644         IPP-2                   Calcineurin-like phosphoesterase   \n",
      "645          Tfb5                          Transcription factor Tfb2   \n",
      "646          Tfb5  Transcription factor Tfb2 (p52) C-terminal domain   \n",
      "\n",
      "    domain_short2 model_confidence high_conf_AF_model  pDockq_Burke  \\\n",
      "0           Bcl-2         0.813592                  1      0.032649   \n",
      "1       Bcl-2_BAD         0.842049                  1      0.387514   \n",
      "2             MAD         0.807580                  1      0.606315   \n",
      "3        Arfaptin         0.888478                  1      0.145853   \n",
      "4        Arfaptin         0.887108                  1      0.127595   \n",
      "..            ...              ...                ...           ...   \n",
      "642        Globin         0.936901                  1           NaN   \n",
      "643        Globin         0.911186                  1      0.672171   \n",
      "644   Metallophos         0.900139                  1      0.662262   \n",
      "645          Tfb2         0.828216                  1      0.524316   \n",
      "646        Tfb2_C         0.827692                  1      0.524316   \n",
      "\n",
      "     IF_pLDDT_Burke  interactome3D_type  max_protlen max_disfrac  \n",
      "0           78.7136               Model        168.0    0.982143  \n",
      "1           81.8840           Structure        233.0    0.982143  \n",
      "2           89.4640           Structure        718.0    0.718663  \n",
      "3           80.4535       Dom_dom_model        483.0    0.401656  \n",
      "4           79.8044       Dom_dom_model        483.0    0.401656  \n",
      "..              ...                 ...          ...         ...  \n",
      "642             NaN           Structure          NaN         NaN  \n",
      "643         97.7041               Model        147.0    0.061225  \n",
      "644         80.8903       Dom_dom_model        327.0    0.975610  \n",
      "645         84.5118           Structure        462.0    0.071429  \n",
      "646         84.5118           Structure        462.0    0.071429  \n",
      "\n",
      "[647 rows x 22 columns]\n"
     ]
    }
   ],
   "source": [
    "print(df)"
   ]
  },
  {
   "cell_type": "code",
   "execution_count": 4,
   "metadata": {},
   "outputs": [
    {
     "name": "stdout",
     "output_type": "stream",
     "text": [
      "    ensembl_gene_id1 ensembl_gene_id2 uniprot_ac1 symbol1 uniprot_ac2 symbol2  \\\n",
      "0    ENSG00000134201  ENSG00000213366      P46439   GSTM5      P28161   GSTM2   \n",
      "1    ENSG00000144744  ENSG00000159593      Q8TBC4    UBA3      Q13564    NAE1   \n",
      "2    ENSG00000006125  ENSG00000161203      P63010   AP2B1      Q96CW1   AP2M1   \n",
      "3    ENSG00000006125  ENSG00000129354      P63010   AP2B1      Q9Y6Q5   AP1M2   \n",
      "4    ENSG00000134201  ENSG00000134202      P46439   GSTM5      P21266   GSTM3   \n",
      "..               ...              ...         ...     ...         ...     ...   \n",
      "599  ENSG00000162521  ENSG00000182979      Q09028   RBBP4      Q13330    MTA1   \n",
      "600  ENSG00000213654  ENSG00000127955      Q9Y4H4   GPSM3      P63096   GNAI1   \n",
      "601  ENSG00000135018  ENSG00000168591      Q9UMX0  UBQLN1      Q71RG4   TMUB2   \n",
      "602  ENSG00000146618  ENSG00000233608      Q96RJ6  FERD3L      Q8WVJ9  TWIST2   \n",
      "603  ENSG00000125447  ENSG00000113595      Q9NZ52    GGA3      P36406  TRIM23   \n",
      "\n",
      "            DDI_type domain_id1 domain_id2  num_DDI_matches  ...  \\\n",
      "0    PF00043_PF00043    PF00043    PF00043                1  ...   \n",
      "1    PF00899_PF00899    PF00899    PF00899                1  ...   \n",
      "2    PF01602_PF01217    PF01602    PF01217                2  ...   \n",
      "3    PF01602_PF01217    PF01602    PF01217                2  ...   \n",
      "4    PF00043_PF00043    PF00043    PF00043                1  ...   \n",
      "..               ...        ...        ...              ...  ...   \n",
      "599  PF12265_PF17226    PF12265    PF17226                1  ...   \n",
      "600  PF00503_PF02188    PF02188    PF00503                1  ...   \n",
      "601  PF00627_PF00240    PF00627    PF00240                1  ...   \n",
      "602  PF00010_PF00010    PF00010    PF00010                1  ...   \n",
      "603  PF00025_PF18308    PF18308    PF00025                1  ...   \n",
      "\n",
      "    domain_short1                                  domain_name2  \\\n",
      "0           GST_C  Glutathione S-transferase, C-terminal domain   \n",
      "1            ThiF                                   ThiF family   \n",
      "2       Adaptin_N          Clathrin adaptor complex small chain   \n",
      "3       Adaptin_N          Clathrin adaptor complex small chain   \n",
      "4           GST_C  Glutathione S-transferase, C-terminal domain   \n",
      "..            ...                                           ...   \n",
      "599   CAF1C_H4-bd                                 MTA R1 domain   \n",
      "600        GoLoco                       G-protein alpha subunit   \n",
      "601           UBA                              Ubiquitin family   \n",
      "602           HLH           Helix-loop-helix DNA-binding domain   \n",
      "603     GGA_N-GAT                ADP-ribosylation factor family   \n",
      "\n",
      "      domain_short2 model_confidence high_conf_AF_model  pDockq_Burke  \\\n",
      "0             GST_C         0.957791                  1      0.717393   \n",
      "1              ThiF         0.956638                  1      0.732569   \n",
      "2    Clat_adaptor_s         0.953945                  1      0.712642   \n",
      "3    Clat_adaptor_s         0.948491                  1      0.717098   \n",
      "4             GST_C         0.946693                  1      0.717658   \n",
      "..              ...              ...                ...           ...   \n",
      "599          MTA_R1         0.801985                  1      0.549254   \n",
      "600         G-alpha         0.801671                  1      0.060436   \n",
      "601       ubiquitin         0.801311                  1      0.044679   \n",
      "602             HLH         0.800502                  1      0.470015   \n",
      "603             Arf         0.800040                  1      0.112312   \n",
      "\n",
      "     IF_pLDDT_Burke  interactome3D_type  max_protlen max_disfrac  \n",
      "0           97.3321               Model        218.0    0.036697  \n",
      "1           90.4572           Structure        534.0    0.144195  \n",
      "2           79.5655           Structure        937.0    0.105656  \n",
      "3           81.0118               Model        937.0    0.105656  \n",
      "4           97.1885               Model        225.0    0.008889  \n",
      "..              ...                 ...          ...         ...  \n",
      "599         73.0607           Structure        715.0    0.453147  \n",
      "600         68.2679       Dom_dom_model        354.0    1.000000  \n",
      "601         66.7825       Dom_dom_model        589.0    0.930390  \n",
      "602         85.5497                None        166.0    0.556250  \n",
      "603         73.5216               Model        723.0    0.580913  \n",
      "\n",
      "[604 rows x 22 columns]\n"
     ]
    }
   ],
   "source": [
    "#Sort by model confidence and drop everything but the best model for an interaction\n",
    "df.sort_values(by='model_confidence', ascending=False, inplace=True)\n",
    "df.drop_duplicates(subset=['ensembl_gene_id1','ensembl_gene_id2'], keep='first', inplace=True, ignore_index=True)\n",
    "print(df)"
   ]
  },
  {
   "cell_type": "code",
   "execution_count": 5,
   "metadata": {},
   "outputs": [],
   "source": [
    "# Create indicator for plot grouping\n",
    "# Looking for difference in protein length and disorder fraction between interactions with high-confidence full-length model and low-confidence full-length model\n",
    "# Using Burke et al. (2023) full-length models, where pDockQ is the measure of model confidence - choose 0.5 as cut-off\n",
    "df.loc[df['pDockq_Burke'] > 0.5,'burkehighconf'] = '> 0.5'\n",
    "df['burkehighconf'] = df['burkehighconf'].fillna('< 0.5')"
   ]
  },
  {
   "cell_type": "code",
   "execution_count": 6,
   "metadata": {},
   "outputs": [
    {
     "data": {
      "image/png": "[encoded data removed]",
      "text/plain": [
       "<Figure size 300x600 with 2 Axes>"
      ]
     },
     "metadata": {},
     "output_type": "display_data"
    }
   ],
   "source": [
    "# Global plot formatting\n",
    "plt.rcParams['axes.spines.top'] = False # remove top spine\n",
    "plt.rcParams['axes.spines.right'] = False # remove right spine\n",
    "plt.rcParams['pdf.fonttype'] = 42 # Set the fonttype to export fonts as font files\n",
    "plt.rcParams['font.family'] = 'Arial'\n",
    "sns.set_palette(\"colorblind\")\n",
    "global_fontsize = 12\n",
    "figsize = (3,3)\n",
    "legend_fontsize = 8\n",
    "bbox_to_anchor =(1.0, 1.0)\n",
    "global_color = 'tab:grey'\n",
    "\n",
    "# Plot protein characteristics\n",
    "fig, (ax1,ax2) = plt.subplots(2,1,figsize=(3,6))\n",
    "hist1 = sns.histplot(df, x=\"max_protlen\", hue=\"burkehighconf\", element=\"step\", ax=ax1)\n",
    "ax1.set_title(None)\n",
    "ax1.set_xlabel('Maximum protein length', fontsize=global_fontsize)\n",
    "ax1.set_ylabel('Count', fontsize=global_fontsize)\n",
    "ax1.tick_params(axis='both', labelsize= global_fontsize)\n",
    "hist1.legend_.set(title='Full-length\\npDockQ score', bbox_to_anchor=(1.0,1.0))\n",
    "sns.histplot(df, x=\"max_disfrac\", hue=\"burkehighconf\", element=\"step\", ax=ax2)\n",
    "ax2.set_title(None)\n",
    "ax2.set_xlabel('Maximum disorder fraction', fontsize=global_fontsize)\n",
    "ax2.set_ylabel('Count', fontsize=global_fontsize)\n",
    "ax2.tick_params(axis='both', labelsize= global_fontsize)\n",
    "ax2.legend([],[], frameon=False)\n",
    "\n",
    "plt.subplots_adjust(hspace=0.3)\n",
    "\n",
    "save_path = '/mnt/c/Users/stromjoe/Documents/'\n",
    "fig.savefig(f'{save_path}prot_char_AfModelSubset_pdockqCompare.pdf',\n",
    "           transparent=True,bbox_inches='tight')\n",
    "fig.savefig(f'{save_path}prot_char_AfModelSubset_pdockqCompare.jpeg',dpi=300,\n",
    "           transparent=True,bbox_inches='tight')\n"
   ]
  },
  {
   "cell_type": "code",
   "execution_count": 14,
   "metadata": {},
   "outputs": [
    {
     "name": "stdout",
     "output_type": "stream",
     "text": [
      "MannwhitneyuResult(statistic=31307.5, pvalue=1.2688150890549691e-09)\n",
      "MannwhitneyuResult(statistic=30194.0, pvalue=4.003990197322491e-11)\n"
     ]
    }
   ],
   "source": [
    "# Compute statistical significance of the observed differences in distributions above\n",
    "from scipy.stats import mannwhitneyu\n",
    "\n",
    "print(mannwhitneyu(x=list(df.loc[df['burkehighconf'] == '> 0.5'].max_protlen), y=list(df.loc[df['burkehighconf'] == '< 0.5'].max_protlen), nan_policy='omit')) # < 0.0001\n",
    "print(mannwhitneyu(x=list(df.loc[df['burkehighconf'] == '> 0.5'].max_disfrac), y=list(df.loc[df['burkehighconf'] == '< 0.5'].max_disfrac), nan_policy='omit')) # < 0.0001"
   ]
  }
 ],
 "metadata": {
  "kernelspec": {
   "display_name": "biopython",
   "language": "python",
   "name": "python3"
  },
  "language_info": {
   "codemirror_mode": {
    "name": "ipython",
    "version": 3
   },
   "file_extension": ".py",
   "mimetype": "text/x-python",
   "name": "python",
   "nbconvert_exporter": "python",
   "pygments_lexer": "ipython3",
   "version": "3.1.undefined"
  }
 },
 "nbformat": 4,
 "nbformat_minor": 2
}
