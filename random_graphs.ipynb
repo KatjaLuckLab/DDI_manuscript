{
 "cells": [
  {
   "cell_type": "code",
   "execution_count": 1,
   "id": "660460a4",
   "metadata": {},
   "outputs": [
    {
     "name": "stdout",
     "output_type": "stream",
     "text": [
      "Original Graph:\n",
      "[(1, 2), (1, 4), (2, 3), (3, 4)]\n",
      "\n",
      "Randomized Graph:\n",
      "[(2, 3), (2, 1), (3, 4), (4, 1)]\n"
     ]
    }
   ],
   "source": [
    "import networkx as nx\n",
    "import random\n",
    "\n",
    "# Create a graph\n",
    "G = nx.Graph()\n",
    "G.add_edges_from([(1, 2), (2, 3), (3, 4), (4, 1)])\n",
    "\n",
    "# Randomize the edges\n",
    "randomized_edges = list(G.edges())\n",
    "random.shuffle(randomized_edges)\n",
    "\n",
    "# Create a new graph with randomized edges\n",
    "randomized_graph = nx.Graph()\n",
    "randomized_graph.add_edges_from(randomized_edges)\n",
    "\n",
    "# Print the original and randomized graphs\n",
    "print(\"Original Graph:\")\n",
    "print(G.edges())\n",
    "\n",
    "print(\"\\nRandomized Graph:\")\n",
    "print(randomized_graph.edges())\n"
   ]
  },
  {
   "cell_type": "code",
   "execution_count": 11,
   "id": "543cd37a",
   "metadata": {},
   "outputs": [
    {
     "data": {
      "text/plain": [
       "[(1, {2: {}, 4: {}}),\n",
       " (2, {1: {}, 3: {}}),\n",
       " (3, {2: {}, 4: {}}),\n",
       " (4, {3: {}, 1: {}})]"
      ]
     },
     "execution_count": 11,
     "metadata": {},
     "output_type": "execute_result"
    }
   ],
   "source": [
    "list(G.adjacency())"
   ]
  },
  {
   "cell_type": "code",
   "execution_count": null,
   "id": "46c941ce",
   "metadata": {},
   "outputs": [],
   "source": []
  },
  {
   "cell_type": "code",
   "execution_count": 12,
   "id": "30efbba3",
   "metadata": {},
   "outputs": [
    {
     "data": {
      "text/plain": [
       "<module 'networkx' from '/Users/josenaveja/anaconda3/lib/python3.10/site-packages/networkx/__init__.py'>"
      ]
     },
     "execution_count": 12,
     "metadata": {},
     "output_type": "execute_result"
    }
   ],
   "source": []
  }
 ],
 "metadata": {
  "kernelspec": {
   "display_name": "Python 3 (ipykernel)",
   "language": "python",
   "name": "python3"
  },
  "language_info": {
   "codemirror_mode": {
    "name": "ipython",
    "version": 3
   },
   "file_extension": ".py",
   "mimetype": "text/x-python",
   "name": "python",
   "nbconvert_exporter": "python",
   "pygments_lexer": "ipython3",
   "version": "3.10.9"
  }
 },
 "nbformat": 4,
 "nbformat_minor": 5
}
