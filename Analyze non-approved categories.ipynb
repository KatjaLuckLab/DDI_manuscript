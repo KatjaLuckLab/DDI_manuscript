{
 "cells": [
  {
   "cell_type": "code",
   "execution_count": 45,
   "id": "6e5abb78",
   "metadata": {},
   "outputs": [],
   "source": [
    "# Import necessary libraries\n",
    "import pandas as pd\n",
    "import numpy as np\n",
    "import db_utils, sqlalchemy\n",
    "import matplotlib.pyplot as plt\n",
    "from matplotlib_venn import venn2, venn2_circles\n",
    "from matplotlib.ticker import (MultipleLocator, AutoMinorLocator)\n",
    "import seaborn as sns\n",
    "from scipy.stats import fisher_exact\n",
    "from scipy import stats\n",
    "import math\n",
    "import os\n",
    "import gzip\n",
    "import re\n",
    "import glob\n",
    "from matplotlib.ticker import (MultipleLocator, AutoMinorLocator)\n",
    "import math\n",
    "plt.rcParams['axes.spines.top'] = False # remove top spine\n",
    "plt.rcParams['axes.spines.right'] = False # remove right spine\n",
    "plt.rcParams['pdf.fonttype'] = 42 # Set the fonttype to export fonts as font files\n",
    "plt.rcParams['font.family'] = 'Arial'\n",
    "sns.set_palette(\"colorblind\")\n",
    "global_fontsize = 12\n",
    "figsize = (3,3)\n",
    "legend_fontsize = 8\n",
    "bbox_to_anchor =(1.0, 1.0)"
   ]
  },
  {
   "cell_type": "code",
   "execution_count": null,
   "id": "6521ea36",
   "metadata": {},
   "outputs": [],
   "source": [
    "# Define a function to create a custom autopct for matplotlib pie chart returning a formatted string\n",
    "# with the percentage and value\n",
    "def make_autopct(data):\n",
    "    def my_autopct(pct):\n",
    "        total = sum(data)\n",
    "        val = int(round(pct*total/100.0))\n",
    "        if val/total < 0.1:\n",
    "            return ' '\n",
    "        else:\n",
    "            return '{p:.2f}%\\n({v:d})'.format(p=pct,v=val)\n",
    "    return my_autopct"
   ]
  },
  {
   "cell_type": "code",
   "execution_count": 2,
   "id": "91de864d",
   "metadata": {},
   "outputs": [],
   "source": [
    "# Read in manual curation dataset as a DataFrame and group it based on 'DDI_type', so each row corresponds to a\n",
    "# single DDI type (take the max value out of all rows corresponding to the same DDI type for all columns (curation\n",
    "# features))\n",
    "df= pd.read_csv('/Users/johgeist/Downloads/DDI_curation table_wihtout_homo_protein_structures_4.csv')\n",
    "df = df[~df['DDI_type'].str.contains('curation')]"
   ]
  },
  {
   "cell_type": "code",
   "execution_count": 7,
   "id": "6e687566",
   "metadata": {},
   "outputs": [],
   "source": [
    "grouped = df.groupby('DDI_type').agg({'Has_abstract': max, 'Abstract_approved': max,\n",
    "                           'Publication_approved': max, 'ProtCID_cluster': max,\n",
    "                           'ProtCID_cluster_with_PDB_ID': max, 'ProtCID_cluster_approved': max,\n",
    "                          'DDI_approved': max, 'non-approved category': 'first'})"
   ]
  },
  {
   "cell_type": "code",
   "execution_count": 8,
   "id": "a4e50093",
   "metadata": {},
   "outputs": [
    {
     "data": {
      "text/html": [
       "<div>\n",
       "<style scoped>\n",
       "    .dataframe tbody tr th:only-of-type {\n",
       "        vertical-align: middle;\n",
       "    }\n",
       "\n",
       "    .dataframe tbody tr th {\n",
       "        vertical-align: top;\n",
       "    }\n",
       "\n",
       "    .dataframe thead th {\n",
       "        text-align: right;\n",
       "    }\n",
       "</style>\n",
       "<table border=\"1\" class=\"dataframe\">\n",
       "  <thead>\n",
       "    <tr style=\"text-align: right;\">\n",
       "      <th></th>\n",
       "      <th>Has_abstract</th>\n",
       "      <th>Abstract_approved</th>\n",
       "      <th>Publication_approved</th>\n",
       "      <th>ProtCID_cluster</th>\n",
       "      <th>ProtCID_cluster_with_PDB_ID</th>\n",
       "      <th>ProtCID_cluster_approved</th>\n",
       "      <th>DDI_approved</th>\n",
       "      <th>non-approved category</th>\n",
       "    </tr>\n",
       "    <tr>\n",
       "      <th>DDI_type</th>\n",
       "      <th></th>\n",
       "      <th></th>\n",
       "      <th></th>\n",
       "      <th></th>\n",
       "      <th></th>\n",
       "      <th></th>\n",
       "      <th></th>\n",
       "      <th></th>\n",
       "    </tr>\n",
       "  </thead>\n",
       "  <tbody>\n",
       "    <tr>\n",
       "      <th>PF00004_PF10584</th>\n",
       "      <td>1.0</td>\n",
       "      <td>0.0</td>\n",
       "      <td>0.0</td>\n",
       "      <td>1.0</td>\n",
       "      <td>1.0</td>\n",
       "      <td>1.0</td>\n",
       "      <td>0.0</td>\n",
       "      <td>HMM (at least one Pfam has unfolded structure)</td>\n",
       "    </tr>\n",
       "    <tr>\n",
       "      <th>PF00009_PF01873</th>\n",
       "      <td>1.0</td>\n",
       "      <td>0.0</td>\n",
       "      <td>1.0</td>\n",
       "      <td>1.0</td>\n",
       "      <td>1.0</td>\n",
       "      <td>0.0</td>\n",
       "      <td>1.0</td>\n",
       "      <td>None</td>\n",
       "    </tr>\n",
       "    <tr>\n",
       "      <th>PF00010_PF02344</th>\n",
       "      <td>1.0</td>\n",
       "      <td>0.0</td>\n",
       "      <td>0.0</td>\n",
       "      <td>1.0</td>\n",
       "      <td>1.0</td>\n",
       "      <td>0.0</td>\n",
       "      <td>0.0</td>\n",
       "      <td>crystal contact</td>\n",
       "    </tr>\n",
       "    <tr>\n",
       "      <th>PF00019_PF00041</th>\n",
       "      <td>1.0</td>\n",
       "      <td>0.0</td>\n",
       "      <td>0.0</td>\n",
       "      <td>0.0</td>\n",
       "      <td>NaN</td>\n",
       "      <td>NaN</td>\n",
       "      <td>0.0</td>\n",
       "      <td>crystal contact</td>\n",
       "    </tr>\n",
       "    <tr>\n",
       "      <th>PF00023_PF07686</th>\n",
       "      <td>1.0</td>\n",
       "      <td>0.0</td>\n",
       "      <td>0.0</td>\n",
       "      <td>0.0</td>\n",
       "      <td>NaN</td>\n",
       "      <td>NaN</td>\n",
       "      <td>0.0</td>\n",
       "      <td>synthetic construct</td>\n",
       "    </tr>\n",
       "    <tr>\n",
       "      <th>...</th>\n",
       "      <td>...</td>\n",
       "      <td>...</td>\n",
       "      <td>...</td>\n",
       "      <td>...</td>\n",
       "      <td>...</td>\n",
       "      <td>...</td>\n",
       "      <td>...</td>\n",
       "      <td>...</td>\n",
       "    </tr>\n",
       "    <tr>\n",
       "      <th>PF16004_PF00400</th>\n",
       "      <td>1.0</td>\n",
       "      <td>0.0</td>\n",
       "      <td>0.0</td>\n",
       "      <td>1.0</td>\n",
       "      <td>1.0</td>\n",
       "      <td>1.0</td>\n",
       "      <td>0.0</td>\n",
       "      <td>HMM (at least one Pfam has unfolded structure)</td>\n",
       "    </tr>\n",
       "    <tr>\n",
       "      <th>PF17292_PF08644</th>\n",
       "      <td>1.0</td>\n",
       "      <td>0.0</td>\n",
       "      <td>0.0</td>\n",
       "      <td>1.0</td>\n",
       "      <td>1.0</td>\n",
       "      <td>1.0</td>\n",
       "      <td>0.0</td>\n",
       "      <td>contact is minimal</td>\n",
       "    </tr>\n",
       "    <tr>\n",
       "      <th>PF17820_PF16523</th>\n",
       "      <td>1.0</td>\n",
       "      <td>0.0</td>\n",
       "      <td>0.0</td>\n",
       "      <td>0.0</td>\n",
       "      <td>NaN</td>\n",
       "      <td>NaN</td>\n",
       "      <td>0.0</td>\n",
       "      <td>HMM (at least one Pfam has unfolded structure)</td>\n",
       "    </tr>\n",
       "    <tr>\n",
       "      <th>PF17838_PF00071</th>\n",
       "      <td>1.0</td>\n",
       "      <td>1.0</td>\n",
       "      <td>1.0</td>\n",
       "      <td>1.0</td>\n",
       "      <td>1.0</td>\n",
       "      <td>0.0</td>\n",
       "      <td>1.0</td>\n",
       "      <td>None</td>\n",
       "    </tr>\n",
       "    <tr>\n",
       "      <th>PF18773_PF00071</th>\n",
       "      <td>1.0</td>\n",
       "      <td>0.0</td>\n",
       "      <td>1.0</td>\n",
       "      <td>1.0</td>\n",
       "      <td>1.0</td>\n",
       "      <td>0.0</td>\n",
       "      <td>1.0</td>\n",
       "      <td>None</td>\n",
       "    </tr>\n",
       "  </tbody>\n",
       "</table>\n",
       "<p>80 rows × 8 columns</p>\n",
       "</div>"
      ],
      "text/plain": [
       "                 Has_abstract  Abstract_approved  Publication_approved   \n",
       "DDI_type                                                                 \n",
       "PF00004_PF10584           1.0                0.0                   0.0  \\\n",
       "PF00009_PF01873           1.0                0.0                   1.0   \n",
       "PF00010_PF02344           1.0                0.0                   0.0   \n",
       "PF00019_PF00041           1.0                0.0                   0.0   \n",
       "PF00023_PF07686           1.0                0.0                   0.0   \n",
       "...                       ...                ...                   ...   \n",
       "PF16004_PF00400           1.0                0.0                   0.0   \n",
       "PF17292_PF08644           1.0                0.0                   0.0   \n",
       "PF17820_PF16523           1.0                0.0                   0.0   \n",
       "PF17838_PF00071           1.0                1.0                   1.0   \n",
       "PF18773_PF00071           1.0                0.0                   1.0   \n",
       "\n",
       "                 ProtCID_cluster  ProtCID_cluster_with_PDB_ID   \n",
       "DDI_type                                                        \n",
       "PF00004_PF10584              1.0                          1.0  \\\n",
       "PF00009_PF01873              1.0                          1.0   \n",
       "PF00010_PF02344              1.0                          1.0   \n",
       "PF00019_PF00041              0.0                          NaN   \n",
       "PF00023_PF07686              0.0                          NaN   \n",
       "...                          ...                          ...   \n",
       "PF16004_PF00400              1.0                          1.0   \n",
       "PF17292_PF08644              1.0                          1.0   \n",
       "PF17820_PF16523              0.0                          NaN   \n",
       "PF17838_PF00071              1.0                          1.0   \n",
       "PF18773_PF00071              1.0                          1.0   \n",
       "\n",
       "                 ProtCID_cluster_approved  DDI_approved   \n",
       "DDI_type                                                  \n",
       "PF00004_PF10584                       1.0           0.0  \\\n",
       "PF00009_PF01873                       0.0           1.0   \n",
       "PF00010_PF02344                       0.0           0.0   \n",
       "PF00019_PF00041                       NaN           0.0   \n",
       "PF00023_PF07686                       NaN           0.0   \n",
       "...                                   ...           ...   \n",
       "PF16004_PF00400                       1.0           0.0   \n",
       "PF17292_PF08644                       1.0           0.0   \n",
       "PF17820_PF16523                       NaN           0.0   \n",
       "PF17838_PF00071                       0.0           1.0   \n",
       "PF18773_PF00071                       0.0           1.0   \n",
       "\n",
       "                                          non-approved category  \n",
       "DDI_type                                                         \n",
       "PF00004_PF10584  HMM (at least one Pfam has unfolded structure)  \n",
       "PF00009_PF01873                                            None  \n",
       "PF00010_PF02344                                 crystal contact  \n",
       "PF00019_PF00041                                 crystal contact  \n",
       "PF00023_PF07686                             synthetic construct  \n",
       "...                                                         ...  \n",
       "PF16004_PF00400  HMM (at least one Pfam has unfolded structure)  \n",
       "PF17292_PF08644                              contact is minimal  \n",
       "PF17820_PF16523  HMM (at least one Pfam has unfolded structure)  \n",
       "PF17838_PF00071                                            None  \n",
       "PF18773_PF00071                                            None  \n",
       "\n",
       "[80 rows x 8 columns]"
      ]
     },
     "execution_count": 8,
     "metadata": {},
     "output_type": "execute_result"
    }
   ],
   "source": [
    "grouped"
   ]
  },
  {
   "cell_type": "code",
   "execution_count": 9,
   "id": "9492dd25",
   "metadata": {},
   "outputs": [
    {
     "data": {
      "text/plain": [
       "array(['HMM (at least one Pfam has unfolded structure)', None,\n",
       "       'crystal contact', 'synthetic construct', 'contact is minimal',\n",
       "       'HMM (domain annotation)'], dtype=object)"
      ]
     },
     "execution_count": 9,
     "metadata": {},
     "output_type": "execute_result"
    }
   ],
   "source": [
    "# check how many different non-approved categories there are\n",
    "grouped['non-approved category'].unique()"
   ]
  },
  {
   "cell_type": "code",
   "execution_count": 10,
   "id": "152a1fa5",
   "metadata": {},
   "outputs": [],
   "source": [
    "# create a summary df holding the total counts of DDI types in each non-approved category\n",
    "value_counts = df['non-approved category'].value_counts()\n",
    "summary_df = value_counts.reset_index()\n",
    "summary_df.columns = ['Category', 'Count']"
   ]
  },
  {
   "cell_type": "code",
   "execution_count": 11,
   "id": "9e0beb4b",
   "metadata": {},
   "outputs": [],
   "source": [
    "summary_df['Category'] = summary_df['Category'].str.capitalize()\n",
    "summary_df.at[0, 'Category'] = 'Minimal contact'\n",
    "summary_df.at[3, 'Category'] = 'Non-folded HMM'\n",
    "summary_df.at[4, 'Category'] = 'Domain annotation'"
   ]
  },
  {
   "cell_type": "code",
   "execution_count": 12,
   "id": "da68fd91",
   "metadata": {},
   "outputs": [
    {
     "data": {
      "text/html": [
       "<div>\n",
       "<style scoped>\n",
       "    .dataframe tbody tr th:only-of-type {\n",
       "        vertical-align: middle;\n",
       "    }\n",
       "\n",
       "    .dataframe tbody tr th {\n",
       "        vertical-align: top;\n",
       "    }\n",
       "\n",
       "    .dataframe thead th {\n",
       "        text-align: right;\n",
       "    }\n",
       "</style>\n",
       "<table border=\"1\" class=\"dataframe\">\n",
       "  <thead>\n",
       "    <tr style=\"text-align: right;\">\n",
       "      <th></th>\n",
       "      <th>Category</th>\n",
       "      <th>Count</th>\n",
       "    </tr>\n",
       "  </thead>\n",
       "  <tbody>\n",
       "    <tr>\n",
       "      <th>0</th>\n",
       "      <td>Minimal contact</td>\n",
       "      <td>12</td>\n",
       "    </tr>\n",
       "    <tr>\n",
       "      <th>1</th>\n",
       "      <td>Crystal contact</td>\n",
       "      <td>9</td>\n",
       "    </tr>\n",
       "    <tr>\n",
       "      <th>2</th>\n",
       "      <td>Synthetic construct</td>\n",
       "      <td>5</td>\n",
       "    </tr>\n",
       "    <tr>\n",
       "      <th>3</th>\n",
       "      <td>Non-folded HMM</td>\n",
       "      <td>5</td>\n",
       "    </tr>\n",
       "    <tr>\n",
       "      <th>4</th>\n",
       "      <td>Domain annotation</td>\n",
       "      <td>1</td>\n",
       "    </tr>\n",
       "  </tbody>\n",
       "</table>\n",
       "</div>"
      ],
      "text/plain": [
       "              Category  Count\n",
       "0      Minimal contact     12\n",
       "1      Crystal contact      9\n",
       "2  Synthetic construct      5\n",
       "3       Non-folded HMM      5\n",
       "4    Domain annotation      1"
      ]
     },
     "execution_count": 12,
     "metadata": {},
     "output_type": "execute_result"
    }
   ],
   "source": [
    "summary_df"
   ]
  },
  {
   "cell_type": "code",
   "execution_count": 77,
   "id": "b97c4b89",
   "metadata": {},
   "outputs": [
    {
     "data": {
      "text/plain": [
       "<Figure size 7680x5760 with 0 Axes>"
      ]
     },
     "metadata": {},
     "output_type": "display_data"
    },
    {
     "data": {
      "image/png": "[encoded data removed]",
      "text/plain": [
       "<Figure size 300x300 with 1 Axes>"
      ]
     },
     "metadata": {},
     "output_type": "display_data"
    }
   ],
   "source": [
    "# make a pie chart to visualize the proportions of the different non-approved categories\n",
    "my_pal = ['#b4eeb4', '#9fc5e8', '#f9cb9c', '#ea9999', '#ffd966']\n",
    "\n",
    "\n",
    "\n",
    "labels = summary_df['Category'].tolist()\n",
    "data = summary_df['Count'].tolist()\n",
    "my_autopct= make_autopct(data)\n",
    "plt.figure(dpi=1200) \n",
    "fig, ax = plt.subplots(figsize=(3,3))\n",
    "ax.pie(data, colors = my_pal,autopct= my_autopct, textprops={'fontsize': 9})\n",
    "ax.legend(labels= labels, bbox_to_anchor=(1, 0.8))\n",
    "# domain annotation yellow -> 1 case, 3.12%\n",
    "\n",
    "#plt.savefig('/Users/johgeist/Downloads/categories_of_non_approval_DDI_types.jpg', transparent=True, bbox_inches='tight', dpi=1200)\n",
    "plt.show()"
   ]
  },
  {
   "cell_type": "code",
   "execution_count": 47,
   "id": "1018dd42",
   "metadata": {},
   "outputs": [],
   "source": [
    "df_gr = df.groupby('DDI_type').agg({'DDI_approved': max})\n",
    "app = df_gr[df_gr['DDI_approved']==1]\n",
    "n_app = df_gr[df_gr['DDI_approved']==0]"
   ]
  },
  {
   "cell_type": "code",
   "execution_count": 75,
   "id": "7e0230ab",
   "metadata": {},
   "outputs": [
    {
     "data": {
      "text/plain": [
       "<Figure size 7680x5760 with 0 Axes>"
      ]
     },
     "metadata": {},
     "output_type": "display_data"
    },
    {
     "data": {
      "image/png": "[encoded data removed]",
      "text/plain": [
       "<Figure size 300x300 with 1 Axes>"
      ]
     },
     "metadata": {},
     "output_type": "display_data"
    }
   ],
   "source": [
    "# Create another pie chart visualizing the proportions of approved vs. non-approved DDI types in \n",
    "# the manual curation dataset\n",
    "\n",
    "my_pal = ['tab:blue', 'tab:orange']\n",
    "\n",
    "labels = ['Approved by manual curation', 'Not approved by manual curation']\n",
    "data = [len(app), len(n_app)]\n",
    "my_autopct= make_autopct(data)\n",
    "plt.figure(dpi=1200) \n",
    "fig, ax = plt.subplots(figsize=(3,3))\n",
    "ax.pie(data, colors = my_pal,autopct= my_autopct, textprops={'fontsize': 9},startangle= 90, wedgeprops=dict(alpha=0.5))\n",
    "ax.legend(labels= labels, bbox_to_anchor=(0.2, 0.9))\n",
    "\n",
    "#plt.savefig('/Users/johgeist/Downloads/approved_non_approved_DDI_types.jpg', transparent=True, bbox_inches='tight', dpi=1200)\n",
    "plt.show()"
   ]
  }
 ],
 "metadata": {
  "kernelspec": {
   "display_name": "Python 3 (ipykernel)",
   "language": "python",
   "name": "python3"
  },
  "language_info": {
   "codemirror_mode": {
    "name": "ipython",
    "version": 3
   },
   "file_extension": ".py",
   "mimetype": "text/x-python",
   "name": "python",
   "nbconvert_exporter": "python",
   "pygments_lexer": "ipython3",
   "version": "3.11.2"
  }
 },
 "nbformat": 4,
 "nbformat_minor": 5
}
