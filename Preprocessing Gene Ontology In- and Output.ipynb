{
 "cells": [
  {
   "cell_type": "code",
   "execution_count": 10,
   "id": "43aad90c-1095-4a25-b3ce-4d8a483e7995",
   "metadata": {
    "tags": []
   },
   "outputs": [],
   "source": [
    "import pandas as pd\n",
    "import numpy as np \n",
    "from sqlalchemy import create_engine\n",
    "import seaborn as sns\n",
    "import matplotlib.pyplot as plt\n",
    "import matplotlib as mt\n",
    "import os\n",
    "from find_path import find_file\n",
    "import mygene\n",
    "import os \n",
    "import warnings\n",
    "warnings.filterwarnings('ignore')\n",
    "import os"
   ]
  },
  {
   "cell_type": "code",
   "execution_count": 13,
   "id": "920889da-1d6b-47c4-985a-d18fe8c4d05d",
   "metadata": {
    "tags": []
   },
   "outputs": [
    {
     "name": "stdout",
     "output_type": "stream",
     "text": [
      "querying 1-1000...done.\n",
      "querying 1001-1132...done.\n",
      "querying 1-1000...done.\n",
      "querying 1001-2000...done.\n",
      "querying 2001-3000...done.\n",
      "querying 3001-4000...done.\n",
      "querying 4001-5000...done.\n",
      "querying 5001-6000...done.\n",
      "querying 6001-7000...done.\n",
      "querying 7001-8000...done.\n",
      "querying 8001-9000...done.\n",
      "querying 9001-9094...done.\n"
     ]
    }
   ],
   "source": [
    "# Generate input for Go term analysis in R\n",
    "\n",
    "# load HuRI gene IDs (available on LuckLab MySQL):\n",
    "johannas_genes = pd.read_csv(find_file('ens_dataframe.csv'))\n",
    "johannas_genes = {'CLUSTER_1': johannas_genes['ens_id'].tolist()}\n",
    "\n",
    "clusters_dictionary = johannas_genes.copy()\n",
    "directory = 'cluster_analysis_in_R_v25'\n",
    "\n",
    "# Create the background for the GO term analysis with HuRI genes as background using mygene\n",
    "mg = mygene.MyGeneInfo()\n",
    "for cluster_name in clusters_dictionary.keys():\n",
    "    df = mg.getgenes(clusters_dictionary.get(cluster_name), fields=\"entrezgene\", as_dataframe=True)\n",
    "    if 'entrezgene' not in df.columns.tolist():\n",
    "        df['entrezgene'] = np.nan\n",
    "    entrez_ids = np.array(df['entrezgene'].tolist())\n",
    "    filename = cluster_name.split('_')[1] + cluster_name.split('_')[0] + '.npy'\n",
    "    np.save(f'../{directory}/' + filename, entrez_ids, allow_pickle=True)\n",
    "\n",
    "# set whole HuRI as the background\n",
    "huri = pd.read_csv(find_file('hi_union.csv'))\n",
    "huri_nodes = list(set(huri['ensembl_gene_id_a'].tolist() + huri['ensembl_gene_id_b'].tolist()))\n",
    "df = mg.getgenes(huri_nodes, fields=\"entrezgene\", as_dataframe=True)\n",
    "entrez_ids = np.array(df['entrezgene'].tolist())\n",
    "filename = '0CLUSTER.npy'\n",
    "np.save(f'../{directory}/' + filename, entrez_ids, allow_pickle=True)\n",
    "\n",
    "clusters_dictionary['CLUSTER_0'] = huri_nodes\n",
    "\n",
    "# Switch to R-script for enrichment analysis"
   ]
  },
  {
   "cell_type": "code",
   "execution_count": 16,
   "id": "a7660b80-ac39-4504-9dfd-ebaac37ddaea",
   "metadata": {},
   "outputs": [],
   "source": [
    "os.chdir(f'../{directory}/')"
   ]
  },
  {
   "cell_type": "code",
   "execution_count": 17,
   "id": "2c2b1185-b36b-414a-a27d-b24e98defe3f",
   "metadata": {
    "tags": []
   },
   "outputs": [],
   "source": [
    "# Preprocess Go term analysis output and preprocess\n",
    "\n",
    "# Load standard background and HuRI background dataframes:\n",
    "\n",
    "empty_files = []\n",
    "files = [i for i in os.listdir() if 'background.csv' in i and 'CLUSTER' in i]\n",
    "for index, file in enumerate(files):\n",
    "    if (index == 0) & (len(df) == 0):\n",
    "        files.append(file)\n",
    "    else:\n",
    "        df = pd.read_csv(file, sep=' ', header=0)\n",
    "        new_file = file.split('.')[0] + '_processed_for_plotting.csv'\n",
    "        if not len(df) == 0:\n",
    "            df['category'] = file[0:2]\n",
    "            df.rename(columns={'Description':'term', 'Count':'count', 'geneID':'genes', 'p.adjust':'adj_pval'}, inplace=True)\n",
    "            df.reset_index(inplace=True, drop=True)\n",
    "            # I want to save the columns list, to use it for the empty dataframes\n",
    "            col_list = df.columns.tolist()\n",
    "            df.to_csv(new_file, sep='\\t', header=True, index=False)\n",
    "        else:\n",
    "            empty_files.append(file)\n",
    "            col_list = df.columns.tolist()\n",
    "            df = pd.DataFrame(columns=col_list)\n",
    "            df.to_csv(new_file, sep='\\t', header=True, index=False)\n",
    "\n",
    "# Create one dataframe for each cluster, which contains all 4 analyses for general background, and another one for the HuRI background\n",
    "\n",
    "# for the general background\n",
    "for cluster in list(set([i.split('_')[1] for i in files])): # this is just a list of all clusters we have\n",
    "    files_to_load = [i for i in [i for i in os.listdir() if 'general_background_processed_for_plotting.csv' in i and ('BP' in i or 'CC' in i or 'MF' in i or 'DO' in i)] if cluster in i.split('_')]\n",
    "    df_list = []\n",
    "    for file in files_to_load:\n",
    "        df = pd.read_csv(file, sep='\\t', header=0)\n",
    "        df_list.append(df)\n",
    "    if len(df_list) != 0:\n",
    "        merged_df = pd.concat(df_list)\n",
    "        merged_df.to_csv(cluster + '_general_background_merged.csv', sep='\\t', header=True, index=False)\n",
    "\n",
    "# for the HuRI background:\n",
    "for cluster in list(set([i.split('_')[1] for i in files])): # this is just a list of all clusters we have\n",
    "    files_to_load = [i for i in [i for i in os.listdir() if 'huri_background_processed_for_plotting.csv' in i and ('BP' in i or 'CC' in i or 'MF' in i or 'DO' in i)] if cluster in i.split('_')]\n",
    "    df_list = []\n",
    "    for file in files_to_load:\n",
    "        df = pd.read_csv(file, sep='\\t', header=0)\n",
    "        df_list.append(df)\n",
    "    if len(df_list) != 0:\n",
    "        merged_df = pd.concat(df_list)\n",
    "        merged_df.to_csv(cluster + '_huri_background_merged.csv', sep='\\t', header=True, index=False)"
   ]
  }
 ],
 "metadata": {
  "kernelspec": {
   "display_name": "Python 3 (ipykernel)",
   "language": "python",
   "name": "python3"
  },
  "language_info": {
   "codemirror_mode": {
    "name": "ipython",
    "version": 3
   },
   "file_extension": ".py",
   "mimetype": "text/x-python",
   "name": "python",
   "nbconvert_exporter": "python",
   "pygments_lexer": "ipython3",
   "version": "3.11.2"
  }
 },
 "nbformat": 4,
 "nbformat_minor": 5
}
